{
 "cells": [
  {
   "attachments": {},
   "cell_type": "markdown",
   "metadata": {},
   "source": [
    "# Introduction to the Planner\n",
    "\n",
    "The Planner is one of the fundamental concepts of the Semantic Kernel. It makes use of the collection of plugins that have been registered to the kernel and using AI, will formulate a plan to execute a given ask.\n",
    "\n",
    "Read more about it [here](https://aka.ms/sk/concepts/planner)."
   ]
  },
  {
   "cell_type": "code",
   "execution_count": 11,
   "metadata": {
    "dotnet_interactive": {
     "language": "csharp"
    },
    "polyglot_notebook": {
     "kernelName": "csharp"
    }
   },
   "outputs": [
    {
     "data": {
      "text/html": [
       "<div><div></div><div></div><div><strong>Installed Packages</strong><ul><li><span>Microsoft.SemanticKernel, 1.0.1</span></li><li><span>Microsoft.SemanticKernel.Planners.Handlebars, 1.0.1-preview</span></li></ul></div></div>"
      ]
     },
     "metadata": {},
     "output_type": "display_data"
    }
   ],
   "source": [
    "#r \"nuget: Microsoft.SemanticKernel, 1.11.1\"\n",
    "#r \"nuget: Microsoft.SemanticKernel.Planners.Handlebars, 1.11.1-preview\"\n",
    "\n",
    "#!import config/Settings.cs\n",
    "#!import config/Utils.cs\n",
    "\n",
    "using Microsoft.SemanticKernel;\n",
    "using Microsoft.SemanticKernel.Connectors.OpenAI;\n",
    "using Kernel = Microsoft.SemanticKernel.Kernel;\n",
    "\n",
    "var builder = Kernel.CreateBuilder();\n",
    "\n",
    "// Configure AI backend used by the kernel\n",
    "var (useAzureOpenAI, model, azureEndpoint, apiKey, orgId) = Settings.LoadFromFile();\n",
    "\n",
    "if (useAzureOpenAI)\n",
    "    builder.AddAzureOpenAIChatCompletion(model, azureEndpoint, apiKey);\n",
    "else\n",
    "    builder.AddOpenAIChatCompletion(model, apiKey, orgId);\n",
    "\n",
    "var kernel = builder.Build();"
   ]
  },
  {
   "attachments": {},
   "cell_type": "markdown",
   "metadata": {},
   "source": [
    "### Setting Up Handlebars Planner\n",
    "Handlebars Planner is located in the `Microsoft.SemanticKernel.Planning.Handlebars` package."
   ]
  },
  {
   "cell_type": "code",
   "execution_count": 2,
   "metadata": {
    "dotnet_interactive": {
     "language": "csharp"
    },
    "polyglot_notebook": {
     "kernelName": "csharp"
    }
   },
   "outputs": [],
   "source": [
    "using Microsoft.SemanticKernel.Planning.Handlebars;\n",
    "\n",
    "#pragma warning disable SKEXP0060\n",
    "\n",
    "var planner = new HandlebarsPlanner();"
   ]
  },
  {
   "attachments": {},
   "cell_type": "markdown",
   "metadata": {},
   "source": [
    "### Providing plugins to the planner\n",
    "The planner needs to know what plugins are available to it. Here we'll import the `SummarizePlugin` and `WriterPlugin` we have defined on disk."
   ]
  },
  {
   "cell_type": "code",
   "execution_count": 3,
   "metadata": {
    "dotnet_interactive": {
     "language": "csharp"
    },
    "polyglot_notebook": {
     "kernelName": "csharp"
    }
   },
   "outputs": [],
   "source": [
    "var pluginsDirectory = Path.Combine(System.IO.Directory.GetCurrentDirectory(), \"..\", \"..\", \"prompt_template_samples\");\n",
    "\n",
    "kernel.ImportPluginFromPromptDirectory(Path.Combine(pluginsDirectory, \"SummarizePlugin\"));\n",
    "kernel.ImportPluginFromPromptDirectory(Path.Combine(pluginsDirectory, \"WriterPlugin\"));"
   ]
  },
  {
   "attachments": {},
   "cell_type": "markdown",
   "metadata": {},
   "source": [
    "Define your ASK. What do you want the Kernel to do?"
   ]
  },
  {
   "cell_type": "code",
   "execution_count": 4,
   "metadata": {
    "dotnet_interactive": {
     "language": "csharp"
    },
    "polyglot_notebook": {
     "kernelName": "csharp"
    }
   },
   "outputs": [
    {
     "name": "stdout",
     "output_type": "stream",
     "text": [
      "Original plan:\n",
      "\n",
      "{{!-- Step 1: Set the scenario for the poem --}}\n",
      "{{set \"scenario\" \"Valentine's Day\"}}\n",
      "\n",
      "{{!-- Step 2: Call the WriterPlugin-ShortPoem helper --}}\n",
      "{{set \"poem\" (WriterPlugin-ShortPoem input=scenario)}}\n",
      "\n",
      "{{!-- Step 3: Print the poem to the screen --}}\n",
      "{{json poem}}\n"
     ]
    }
   ],
   "source": [
    "#pragma warning disable SKEXP0060\n",
    "\n",
    "var ask = \"Tomorrow is Valentine's day. I need to come up with a few date ideas. My significant other likes poems so write them in the form of a poem.\";\n",
    "var originalPlan = await planner.CreatePlanAsync(kernel, ask);\n",
    "\n",
    "Console.WriteLine(\"Original plan:\\n\");\n",
    "Console.WriteLine(originalPlan);"
   ]
  },
  {
   "attachments": {},
   "cell_type": "markdown",
   "metadata": {},
   "source": [
    "As you can see in the above plan, the Planner has taken the user's ask and converted it into a Plan object detailing how the AI would go about solving this task.\n",
    "\n",
    "It makes use of the plugins that the Kernel has available to it and determines which functions to call in order to fulfill the user's ask."
   ]
  },
  {
   "attachments": {},
   "cell_type": "markdown",
   "metadata": {},
   "source": [
    "Let's also define an inline plugin and have it be available to the Planner.\n",
    "Be sure to give it a function name and plugin name."
   ]
  },
  {
   "cell_type": "code",
   "execution_count": 5,
   "metadata": {
    "dotnet_interactive": {
     "language": "csharp"
    },
    "polyglot_notebook": {
     "kernelName": "csharp"
    }
   },
   "outputs": [],
   "source": [
    "string skPrompt = \"\"\"\n",
    "{{$input}}\n",
    "\n",
    "Rewrite the above in the style of Shakespeare.\n",
    "\"\"\";\n",
    "\n",
    "var executionSettings = new OpenAIPromptExecutionSettings \n",
    "{\n",
    "    MaxTokens = 2000,\n",
    "    Temperature = 0.7,\n",
    "    TopP = 0.5\n",
    "};\n",
    "\n",
    "var shakespeareFunction = kernel.CreateFunctionFromPrompt(skPrompt, executionSettings, \"Shakespeare\");"
   ]
  },
  {
   "attachments": {},
   "cell_type": "markdown",
   "metadata": {},
   "source": [
    "Let's update our ask using this new plugin."
   ]
  },
  {
   "cell_type": "code",
   "execution_count": 6,
   "metadata": {
    "dotnet_interactive": {
     "language": "csharp"
    },
    "polyglot_notebook": {
     "kernelName": "csharp"
    }
   },
   "outputs": [
    {
     "name": "stdout",
     "output_type": "stream",
     "text": [
      "Updated plan:\n",
      "\n",
      "{{!-- Step 1: Create an array of date ideas --}}\n",
      "{{set \"dateIdeas\" (array \"Visit a Shakespearean play\" \"Have a picnic in the park and recite sonnets\" \"Take a romantic walk near the river\" \"Write love letters to each other\" \"Explore a Shakespearean-inspired art exhibition\" \"Enjoy a candlelit dinner and quote Romeo and Juliet\" \"Watch a movie adaptation of a Shakespearean play\" \"Attend a Shakespearean-themed festival\" \"Go star-gazing and recite Shakespearean sonnets\" \"Visit a historic location associated with Shakespeare\")}}\n",
      "\n",
      "{{!-- Step 2: Create an empty array to hold the lines of the poem --}}\n",
      "{{set \"poemLines\" (array)}}\n",
      "\n",
      "{{!-- Step 3: Loop through each date idea --}}\n",
      "{{#each dateIdeas}}\n",
      "  {{!-- Step 4: Capitalize the first letter of the date idea --}}\n",
      "  {{set \"capitalizedIdea\" (capitalize this)}}\n",
      "\n",
      "  {{!-- Step 5: Create a line of the poem using the date idea --}}\n",
      "  {{set \"poemLine\" (concat \"Forsooth, let us \" capitalizedIdea \" my dear\")}}\n",
      "\n",
      "  {{!-- Step 6: Add the line to the poemLines array --}}\n",
      "  {{set \"poemLines\" (array.push poemLines poemLine)}}\n",
      "{{/each}}\n",
      "\n",
      "{{!-- Step 7: Join all the lines of the poem with line breaks --}}\n",
      "{{set \"poem\" (join poemLines \"\\n\")}}\n",
      "\n",
      "{{!-- Step 8: Print the final poem to the screen --}}\n",
      "{{json poem}}\n"
     ]
    }
   ],
   "source": [
    "#pragma warning disable SKEXP0060\n",
    "\n",
    "var ask = @\"Tomorrow is Valentine's day. I need to come up with a few date ideas.\n",
    "She likes Shakespeare so write using his style. Write them in the form of a poem.\";\n",
    "\n",
    "var newPlan = await planner.CreatePlanAsync(kernel, ask);\n",
    "\n",
    "Console.WriteLine(\"Updated plan:\\n\");\n",
    "Console.WriteLine(newPlan);"
   ]
  },
  {
   "attachments": {},
   "cell_type": "markdown",
   "metadata": {},
   "source": [
    "### Executing the plans\n",
    "\n",
    "Now that we have different plans, let's try to execute them! The Kernel can execute the plan using RunAsync."
   ]
  },
  {
   "cell_type": "code",
   "execution_count": 7,
   "metadata": {
    "dotnet_interactive": {
     "language": "csharp"
    },
    "polyglot_notebook": {
     "kernelName": "csharp"
    }
   },
   "outputs": [
    {
     "name": "stdout",
     "output_type": "stream",
     "text": [
      "Original Plan results:\n",
      "\n",
      "Roses are red, violets are blue,\n",
      "Valentine's Day, what shall we do?\n",
      "We'll exchange gifts, and eat\n",
      "lots of sweets,\n",
      "But let's not forget, love's not just for treats!\n",
      "\n",
      "Cupid's arrows flying, love is in\n",
      "the air,\n",
      "But beware of\n",
      "\n"
     ]
    }
   ],
   "source": [
    "#pragma warning disable SKEXP0060\n",
    "\n",
    "var originalPlanResult = await originalPlan.InvokeAsync(kernel, new KernelArguments());\n",
    "\n",
    "Console.WriteLine(\"Original Plan results:\\n\");\n",
    "Console.WriteLine(Utils.WordWrap(originalPlanResult.ToString(), 100));"
   ]
  },
  {
   "attachments": {},
   "cell_type": "markdown",
   "metadata": {},
   "source": [
    "Now lets execute and print the new plan:"
   ]
  },
  {
   "cell_type": "code",
   "execution_count": 12,
   "metadata": {
    "dotnet_interactive": {
     "language": "csharp"
    },
    "polyglot_notebook": {
     "kernelName": "csharp"
    }
   },
   "outputs": [
    {
     "ename": "Error",
     "evalue": "HandlebarsDotNet.HandlebarsCompilerException: An unhandled exception occurred while trying to compile the template\r\n ---> HandlebarsDotNet.HandlebarsCompilerException: An unhandled exception occurred while trying to compile the template\r\n ---> HandlebarsDotNet.HandlebarsCompilerException: An unhandled exception occurred while trying to compile the template\r\n ---> HandlebarsDotNet.HandlebarsCompilerException: An unhandled exception occurred while trying to compile the template\r\n ---> HandlebarsDotNet.HandlebarsCompilerException: Sub-expression does not contain a converted MethodCall expression\r\n   at HandlebarsDotNet.Compiler.SubExpressionVisitor.VisitSubExpression(SubExpressionExpression subex)\r\n   at HandlebarsDotNet.Compiler.FunctionBuilder.Reduce(Expression expression, CompilationContext context, IReadOnlyList`1& decorators)\r\n   at HandlebarsDotNet.Compiler.FunctionBinderHelpers.<>c__DisplayClass2_0.<CreateArguments>b__1(Expression o)\r\n   at System.Linq.Enumerable.SelectEnumerableIterator`2.ToArray()\r\n   at HandlebarsDotNet.Compiler.FunctionBinderHelpers.CreateArguments(IEnumerable`1 expressions, CompilationContext compilationContext)\r\n   at HandlebarsDotNet.Compiler.HelperFunctionBinder.VisitHelperExpression(HelperExpression hex)\r\n   at HandlebarsDotNet.Compiler.HelperFunctionBinder.VisitStatementExpression(StatementExpression sex)\r\n   at System.Dynamic.Utils.ExpressionVisitorUtils.VisitBlockExpressions(ExpressionVisitor visitor, BlockExpression block)\r\n   at System.Linq.Expressions.ExpressionVisitor.VisitBlock(BlockExpression node)\r\n   at System.Dynamic.Utils.ExpressionVisitorUtils.VisitBlockExpressions(ExpressionVisitor visitor, BlockExpression block)\r\n   at System.Linq.Expressions.ExpressionVisitor.VisitBlock(BlockExpression node)\r\n   at HandlebarsDotNet.Compiler.FunctionBuilder.Reduce(Expression expression, CompilationContext context, IReadOnlyList`1& decorators)\r\n   at HandlebarsDotNet.Compiler.FunctionBuilder.CreateExpression(IEnumerable`1 expressions, CompilationContext compilationContext, IReadOnlyList`1& decorators)\r\n   --- End of inner exception stack trace ---\r\n   at HandlebarsDotNet.Compiler.FunctionBuilder.CreateExpression(IEnumerable`1 expressions, CompilationContext compilationContext, IReadOnlyList`1& decorators)\r\n   at HandlebarsDotNet.Compiler.FunctionBuilder.Compile(IEnumerable`1 expressions, CompilationContext compilationContext, IReadOnlyList`1& decorators)\r\n   --- End of inner exception stack trace ---\r\n   at HandlebarsDotNet.Compiler.FunctionBuilder.Compile(IEnumerable`1 expressions, CompilationContext compilationContext, IReadOnlyList`1& decorators)\r\n   at HandlebarsDotNet.Compiler.IteratorBinder.VisitIteratorExpression(IteratorExpression iex)\r\n   at System.Dynamic.Utils.ExpressionVisitorUtils.VisitBlockExpressions(ExpressionVisitor visitor, BlockExpression block)\r\n   at System.Linq.Expressions.ExpressionVisitor.VisitBlock(BlockExpression node)\r\n   at HandlebarsDotNet.Compiler.FunctionBuilder.Reduce(Expression expression, CompilationContext context, IReadOnlyList`1& decorators)\r\n   at HandlebarsDotNet.Compiler.FunctionBuilder.CreateExpression(IEnumerable`1 expressions, CompilationContext compilationContext, IReadOnlyList`1& decorators)\r\n   --- End of inner exception stack trace ---\r\n   at HandlebarsDotNet.Compiler.FunctionBuilder.CreateExpression(IEnumerable`1 expressions, CompilationContext compilationContext, IReadOnlyList`1& decorators)\r\n   at HandlebarsDotNet.Compiler.FunctionBuilder.Compile(IEnumerable`1 expressions, CompilationContext compilationContext, IReadOnlyList`1& decorators)\r\n   --- End of inner exception stack trace ---\r\n   at HandlebarsDotNet.Compiler.FunctionBuilder.Compile(IEnumerable`1 expressions, CompilationContext compilationContext, IReadOnlyList`1& decorators)\r\n   at HandlebarsDotNet.Compiler.HandlebarsCompiler.Compile(ExtendedStringReader source, CompilationContext compilationContext)\r\n   at HandlebarsDotNet.HandlebarsEnvironment.Compile(TextReader template)\r\n   at HandlebarsDotNet.HandlebarsEnvironment.Compile(String template)\r\n   at Microsoft.SemanticKernel.PromptTemplates.Handlebars.HandlebarsPromptTemplate.RenderAsync(Kernel kernel, KernelArguments arguments, CancellationToken cancellationToken)\r\n   at Microsoft.SemanticKernel.Planning.Handlebars.HandlebarsPlan.InvokeCoreAsync(Kernel kernel, KernelArguments arguments, CancellationToken cancellationToken)\r\n   at Microsoft.SemanticKernel.Planning.PlannerInstrumentation.InvokePlanAsync[TPlan,TPlanInput,TPlanResult](Func`5 InvokePlanAsync, TPlan plan, Kernel kernel, TPlanInput input, ILogger logger, CancellationToken cancellationToken)\r\n   at Submission#17.<<Initialize>>d__0.MoveNext()\r\n--- End of stack trace from previous location ---\r\n   at Microsoft.CodeAnalysis.Scripting.ScriptExecutionState.RunSubmissionsAsync[TResult](ImmutableArray`1 precedingExecutors, Func`2 currentExecutor, StrongBox`1 exceptionHolderOpt, Func`2 catchExceptionOpt, CancellationToken cancellationToken)",
     "output_type": "error",
     "traceback": [
      "HandlebarsDotNet.HandlebarsCompilerException: An unhandled exception occurred while trying to compile the template\r\n",
      " ---> HandlebarsDotNet.HandlebarsCompilerException: An unhandled exception occurred while trying to compile the template\r\n",
      " ---> HandlebarsDotNet.HandlebarsCompilerException: An unhandled exception occurred while trying to compile the template\r\n",
      " ---> HandlebarsDotNet.HandlebarsCompilerException: An unhandled exception occurred while trying to compile the template\r\n",
      " ---> HandlebarsDotNet.HandlebarsCompilerException: Sub-expression does not contain a converted MethodCall expression\r\n",
      "   at HandlebarsDotNet.Compiler.SubExpressionVisitor.VisitSubExpression(SubExpressionExpression subex)\r\n",
      "   at HandlebarsDotNet.Compiler.FunctionBuilder.Reduce(Expression expression, CompilationContext context, IReadOnlyList`1& decorators)\r\n",
      "   at HandlebarsDotNet.Compiler.FunctionBinderHelpers.<>c__DisplayClass2_0.<CreateArguments>b__1(Expression o)\r\n",
      "   at System.Linq.Enumerable.SelectEnumerableIterator`2.ToArray()\r\n",
      "   at HandlebarsDotNet.Compiler.FunctionBinderHelpers.CreateArguments(IEnumerable`1 expressions, CompilationContext compilationContext)\r\n",
      "   at HandlebarsDotNet.Compiler.HelperFunctionBinder.VisitHelperExpression(HelperExpression hex)\r\n",
      "   at HandlebarsDotNet.Compiler.HelperFunctionBinder.VisitStatementExpression(StatementExpression sex)\r\n",
      "   at System.Dynamic.Utils.ExpressionVisitorUtils.VisitBlockExpressions(ExpressionVisitor visitor, BlockExpression block)\r\n",
      "   at System.Linq.Expressions.ExpressionVisitor.VisitBlock(BlockExpression node)\r\n",
      "   at System.Dynamic.Utils.ExpressionVisitorUtils.VisitBlockExpressions(ExpressionVisitor visitor, BlockExpression block)\r\n",
      "   at System.Linq.Expressions.ExpressionVisitor.VisitBlock(BlockExpression node)\r\n",
      "   at HandlebarsDotNet.Compiler.FunctionBuilder.Reduce(Expression expression, CompilationContext context, IReadOnlyList`1& decorators)\r\n",
      "   at HandlebarsDotNet.Compiler.FunctionBuilder.CreateExpression(IEnumerable`1 expressions, CompilationContext compilationContext, IReadOnlyList`1& decorators)\r\n",
      "   --- End of inner exception stack trace ---\r\n",
      "   at HandlebarsDotNet.Compiler.FunctionBuilder.CreateExpression(IEnumerable`1 expressions, CompilationContext compilationContext, IReadOnlyList`1& decorators)\r\n",
      "   at HandlebarsDotNet.Compiler.FunctionBuilder.Compile(IEnumerable`1 expressions, CompilationContext compilationContext, IReadOnlyList`1& decorators)\r\n",
      "   --- End of inner exception stack trace ---\r\n",
      "   at HandlebarsDotNet.Compiler.FunctionBuilder.Compile(IEnumerable`1 expressions, CompilationContext compilationContext, IReadOnlyList`1& decorators)\r\n",
      "   at HandlebarsDotNet.Compiler.IteratorBinder.VisitIteratorExpression(IteratorExpression iex)\r\n",
      "   at System.Dynamic.Utils.ExpressionVisitorUtils.VisitBlockExpressions(ExpressionVisitor visitor, BlockExpression block)\r\n",
      "   at System.Linq.Expressions.ExpressionVisitor.VisitBlock(BlockExpression node)\r\n",
      "   at HandlebarsDotNet.Compiler.FunctionBuilder.Reduce(Expression expression, CompilationContext context, IReadOnlyList`1& decorators)\r\n",
      "   at HandlebarsDotNet.Compiler.FunctionBuilder.CreateExpression(IEnumerable`1 expressions, CompilationContext compilationContext, IReadOnlyList`1& decorators)\r\n",
      "   --- End of inner exception stack trace ---\r\n",
      "   at HandlebarsDotNet.Compiler.FunctionBuilder.CreateExpression(IEnumerable`1 expressions, CompilationContext compilationContext, IReadOnlyList`1& decorators)\r\n",
      "   at HandlebarsDotNet.Compiler.FunctionBuilder.Compile(IEnumerable`1 expressions, CompilationContext compilationContext, IReadOnlyList`1& decorators)\r\n",
      "   --- End of inner exception stack trace ---\r\n",
      "   at HandlebarsDotNet.Compiler.FunctionBuilder.Compile(IEnumerable`1 expressions, CompilationContext compilationContext, IReadOnlyList`1& decorators)\r\n",
      "   at HandlebarsDotNet.Compiler.HandlebarsCompiler.Compile(ExtendedStringReader source, CompilationContext compilationContext)\r\n",
      "   at HandlebarsDotNet.HandlebarsEnvironment.Compile(TextReader template)\r\n",
      "   at HandlebarsDotNet.HandlebarsEnvironment.Compile(String template)\r\n",
      "   at Microsoft.SemanticKernel.PromptTemplates.Handlebars.HandlebarsPromptTemplate.RenderAsync(Kernel kernel, KernelArguments arguments, CancellationToken cancellationToken)\r\n",
      "   at Microsoft.SemanticKernel.Planning.Handlebars.HandlebarsPlan.InvokeCoreAsync(Kernel kernel, KernelArguments arguments, CancellationToken cancellationToken)\r\n",
      "   at Microsoft.SemanticKernel.Planning.PlannerInstrumentation.InvokePlanAsync[TPlan,TPlanInput,TPlanResult](Func`5 InvokePlanAsync, TPlan plan, Kernel kernel, TPlanInput input, ILogger logger, CancellationToken cancellationToken)\r\n",
      "   at Submission#17.<<Initialize>>d__0.MoveNext()\r\n",
      "--- End of stack trace from previous location ---\r\n",
      "   at Microsoft.CodeAnalysis.Scripting.ScriptExecutionState.RunSubmissionsAsync[TResult](ImmutableArray`1 precedingExecutors, Func`2 currentExecutor, StrongBox`1 exceptionHolderOpt, Func`2 catchExceptionOpt, CancellationToken cancellationToken)"
     ]
    }
   ],
   "source": [
    "#pragma warning disable SKEXP0060\n",
    "\n",
    "var newPlanResult = await newPlan.InvokeAsync(kernel, new KernelArguments());\n",
    "\n",
    "Console.WriteLine(\"New Plan results:\\n\");\n",
    "Console.WriteLine(newPlanResult);"
   ]
  }
 ],
 "metadata": {
  "kernelspec": {
   "display_name": ".NET (C#)",
   "language": "C#",
   "name": ".net-csharp"
  },
  "language_info": {
   "name": "polyglot-notebook"
  },
  "polyglot_notebook": {
   "kernelInfo": {
    "defaultKernelName": "csharp",
    "items": [
     {
      "aliases": [],
      "name": "csharp"
     }
    ]
   }
  }
 },
 "nbformat": 4,
 "nbformat_minor": 2
}
